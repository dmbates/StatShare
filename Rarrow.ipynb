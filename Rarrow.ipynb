{
 "cells": [
  {
   "cell_type": "markdown",
   "id": "269f41fb-a1d7-4534-b8cd-4de9ba65552c",
   "metadata": {},
   "source": [
    "# Read arrow file in R"
   ]
  },
  {
   "cell_type": "code",
   "execution_count": 1,
   "id": "bb477875-0468-4c39-ab7b-42193910f4b6",
   "metadata": {},
   "outputs": [
    {
     "name": "stdout",
     "output_type": "stream",
     "text": [
      "Rows: 8,778,585\n",
      "Columns: 67\n",
      "$ county_id                \u001b[3m\u001b[38;5;246m<int>\u001b[39m\u001b[23m 1, 1, 1, 1, 1, 1, 1, 1, 1, 1, 1, 1, 1, 1, 1, …\n",
      "$ county_desc              \u001b[3m\u001b[38;5;246m<fct>\u001b[39m\u001b[23m ALAMANCE, ALAMANCE, ALAMANCE, ALAMANCE, ALAMA…\n",
      "$ voter_reg_num            \u001b[3m\u001b[38;5;246m<int>\u001b[39m\u001b[23m 9005990, 9178574, 9205561, 9048723, 9019674, …\n",
      "$ ncid                     \u001b[3m\u001b[38;5;246m<chr>\u001b[39m\u001b[23m \"AA56273\", \"AA201627\", \"AA216996\", \"AA98377\",…\n",
      "$ last_name                \u001b[3m\u001b[38;5;246m<fct>\u001b[39m\u001b[23m AABEL, AARDEN, AARMSTRONG, AARON, AARON, AARO…\n",
      "$ first_name               \u001b[3m\u001b[38;5;246m<fct>\u001b[39m\u001b[23m RUTH, JONI, TIMOTHY, CHRISTINA, CLAUDIA, JAME…\n",
      "$ middle_name              \u001b[3m\u001b[38;5;246m<fct>\u001b[39m\u001b[23m EVELYN, AUTUMN, DUANE, CASTAGNA, HAYDEN, MICH…\n",
      "$ name_suffix_lbl          \u001b[3m\u001b[38;5;246m<fct>\u001b[39m\u001b[23m \u001b[31mNA\u001b[39m, \u001b[31mNA\u001b[39m, \u001b[31mNA\u001b[39m, \u001b[31mNA\u001b[39m, \u001b[31mNA\u001b[39m, \u001b[31mNA\u001b[39m, \u001b[31mNA\u001b[39m, \u001b[31mNA\u001b[39m, \u001b[31mNA\u001b[39m, \u001b[31mNA\u001b[39m, \u001b[31mNA\u001b[39m, \u001b[31mN\u001b[39m…\n",
      "$ status_cd                \u001b[3m\u001b[38;5;246m<fct>\u001b[39m\u001b[23m R, R, A, A, A, A, R, A, A, A, A, A, A, I, A, …\n",
      "$ voter_status_desc        \u001b[3m\u001b[38;5;246m<fct>\u001b[39m\u001b[23m REMOVED, REMOVED, ACTIVE, ACTIVE, ACTIVE, ACT…\n",
      "$ reason_cd                \u001b[3m\u001b[38;5;246m<fct>\u001b[39m\u001b[23m RD, RL, A2, AV, AV, AV, RM, AV, AV, AV, AV, A…\n",
      "$ voter_status_reason_desc \u001b[3m\u001b[38;5;246m<fct>\u001b[39m\u001b[23m DECEASED, MOVED FROM COUNTY, CONFIRMATION PEN…\n",
      "$ res_street_address       \u001b[3m\u001b[38;5;246m<chr>\u001b[39m\u001b[23m \"REMOVED\", \"REMOVED\", \"3670  COVINGTON TRL   …\n",
      "$ res_city_desc            \u001b[3m\u001b[38;5;246m<fct>\u001b[39m\u001b[23m \u001b[31mNA\u001b[39m, \u001b[31mNA\u001b[39m, MEBANE, BURLINGTON, BURLINGTON, GRAHA…\n",
      "$ state_cd                 \u001b[3m\u001b[38;5;246m<fct>\u001b[39m\u001b[23m \u001b[31mNA\u001b[39m, \u001b[31mNA\u001b[39m, NC, NC, NC, NC, \u001b[31mNA\u001b[39m, NC, NC, NC, NC, N…\n",
      "$ zip_code                 \u001b[3m\u001b[38;5;246m<int>\u001b[39m\u001b[23m \u001b[31mNA\u001b[39m, \u001b[31mNA\u001b[39m, 27302, 27215, 27215, 27253, \u001b[31mNA\u001b[39m, 27215…\n",
      "$ mail_addr1               \u001b[3m\u001b[38;5;246m<chr>\u001b[39m\u001b[23m \u001b[31mNA\u001b[39m, \u001b[31mNA\u001b[39m, \"3670 COVINGTON TRL\", \"421 WHITT AVE\"…\n",
      "$ mail_addr2               \u001b[3m\u001b[38;5;246m<fct>\u001b[39m\u001b[23m \u001b[31mNA\u001b[39m, \u001b[31mNA\u001b[39m, \u001b[31mNA\u001b[39m, \u001b[31mNA\u001b[39m, \u001b[31mNA\u001b[39m, \u001b[31mNA\u001b[39m, \u001b[31mNA\u001b[39m, \u001b[31mNA\u001b[39m, \u001b[31mNA\u001b[39m, \u001b[31mNA\u001b[39m, \u001b[31mNA\u001b[39m, \u001b[31mN\u001b[39m…\n",
      "$ mail_addr3               \u001b[3m\u001b[38;5;246m<fct>\u001b[39m\u001b[23m \u001b[31mNA\u001b[39m, \u001b[31mNA\u001b[39m, \u001b[31mNA\u001b[39m, \u001b[31mNA\u001b[39m, \u001b[31mNA\u001b[39m, \u001b[31mNA\u001b[39m, \u001b[31mNA\u001b[39m, \u001b[31mNA\u001b[39m, \u001b[31mNA\u001b[39m, \u001b[31mNA\u001b[39m, \u001b[31mNA\u001b[39m, \u001b[31mN\u001b[39m…\n",
      "$ mail_addr4               \u001b[3m\u001b[38;5;246m<fct>\u001b[39m\u001b[23m \u001b[31mNA\u001b[39m, \u001b[31mNA\u001b[39m, \u001b[31mNA\u001b[39m, \u001b[31mNA\u001b[39m, \u001b[31mNA\u001b[39m, \u001b[31mNA\u001b[39m, \u001b[31mNA\u001b[39m, \u001b[31mNA\u001b[39m, \u001b[31mNA\u001b[39m, \u001b[31mNA\u001b[39m, \u001b[31mNA\u001b[39m, \u001b[31mN\u001b[39m…\n",
      "$ mail_city                \u001b[3m\u001b[38;5;246m<fct>\u001b[39m\u001b[23m \u001b[31mNA\u001b[39m, \u001b[31mNA\u001b[39m, \"MEBANE\", \"BURLINGTON\", \"BURLINGTON\",…\n",
      "$ mail_state               \u001b[3m\u001b[38;5;246m<fct>\u001b[39m\u001b[23m \u001b[31mNA\u001b[39m, \u001b[31mNA\u001b[39m, NC, NC, NC, NC, \u001b[31mNA\u001b[39m, NC, NC, NC, NC, N…\n",
      "$ mail_zipcode             \u001b[3m\u001b[38;5;246m<int>\u001b[39m\u001b[23m \u001b[31mNA\u001b[39m, \u001b[31mNA\u001b[39m, 27302, 27215, 27215, 27340, \u001b[31mNA\u001b[39m, 27215…\n",
      "$ full_phone_number        \u001b[3m\u001b[38;5;246m<chr>\u001b[39m\u001b[23m \u001b[31mNA\u001b[39m, \u001b[31mNA\u001b[39m, \u001b[31mNA\u001b[39m, \"3362291110\", \"2228834\", \"2027443…\n",
      "$ confidential_ind         \u001b[3m\u001b[38;5;246m<fct>\u001b[39m\u001b[23m N, N, N, N, N, N, N, N, N, N, N, N, N, N, N, …\n",
      "$ registr_dt               \u001b[3m\u001b[38;5;246m<date>\u001b[39m\u001b[23m 1984-10-01, 2018-02-23, 2020-10-31, 1996-03-…\n",
      "$ race_code                \u001b[3m\u001b[38;5;246m<fct>\u001b[39m\u001b[23m W, W, W, W, W, W, B, W, W, W, W, W, W, W, W, …\n",
      "$ ethnic_code              \u001b[3m\u001b[38;5;246m<fct>\u001b[39m\u001b[23m NL, UN, UN, UN, NL, UN, NL, UN, UN, HL, NL, N…\n",
      "$ party_cd                 \u001b[3m\u001b[38;5;246m<fct>\u001b[39m\u001b[23m UNA, UNA, REP, UNA, UNA, DEM, DEM, UNA, UNA, …\n",
      "$ gender_code              \u001b[3m\u001b[38;5;246m<fct>\u001b[39m\u001b[23m F, F, M, F, F, M, F, M, M, F, M, F, M, M, M, …\n",
      "$ birth_year               \u001b[3m\u001b[38;5;246m<int>\u001b[39m\u001b[23m 1935, 1978, 1966, 1976, 1945, 1948, 1966, 197…\n",
      "$ age_at_year_end          \u001b[3m\u001b[38;5;246m<int>\u001b[39m\u001b[23m 90, 47, 59, 49, 80, 77, 59, 49, 53, 50, 81, 5…\n",
      "$ birth_state              \u001b[3m\u001b[38;5;246m<fct>\u001b[39m\u001b[23m NY, DC, AL, NC, VA, MA, NC, NC, VA, \u001b[31mNA\u001b[39m, VA, N…\n",
      "$ drivers_lic              \u001b[3m\u001b[38;5;246m<fct>\u001b[39m\u001b[23m N, Y, N, Y, Y, N, Y, Y, Y, N, Y, Y, Y, Y, Y, …\n",
      "$ precinct_abbrv           \u001b[3m\u001b[38;5;246m<fct>\u001b[39m\u001b[23m \u001b[31mNA\u001b[39m, \u001b[31mNA\u001b[39m, 103, 03SE, 124, 08N, \u001b[31mNA\u001b[39m, 03SE, 124, 1…\n",
      "$ precinct_desc            \u001b[3m\u001b[38;5;246m<fct>\u001b[39m\u001b[23m \u001b[31mNA\u001b[39m, \u001b[31mNA\u001b[39m, \"MELVILLE 3\", \"SOUTH BOONE E\", \"BURLI…\n",
      "$ municipality_abbrv       \u001b[3m\u001b[38;5;246m<fct>\u001b[39m\u001b[23m \u001b[31mNA\u001b[39m, \u001b[31mNA\u001b[39m, \u001b[31mNA\u001b[39m, BUR, BUR, \u001b[31mNA\u001b[39m, \u001b[31mNA\u001b[39m, BUR, BUR, BUR, …\n",
      "$ municipality_desc        \u001b[3m\u001b[38;5;246m<fct>\u001b[39m\u001b[23m \u001b[31mNA\u001b[39m, \u001b[31mNA\u001b[39m, \u001b[31mNA\u001b[39m, BURLINGTON, BURLINGTON, \u001b[31mNA\u001b[39m, \u001b[31mNA\u001b[39m, B…\n",
      "$ ward_abbrv               \u001b[3m\u001b[38;5;246m<fct>\u001b[39m\u001b[23m \u001b[31mNA\u001b[39m, \u001b[31mNA\u001b[39m, \u001b[31mNA\u001b[39m, \u001b[31mNA\u001b[39m, \u001b[31mNA\u001b[39m, \u001b[31mNA\u001b[39m, \u001b[31mNA\u001b[39m, \u001b[31mNA\u001b[39m, \u001b[31mNA\u001b[39m, \u001b[31mNA\u001b[39m, \u001b[31mNA\u001b[39m, \u001b[31mN\u001b[39m…\n",
      "$ ward_desc                \u001b[3m\u001b[38;5;246m<fct>\u001b[39m\u001b[23m \u001b[31mNA\u001b[39m, \u001b[31mNA\u001b[39m, \u001b[31mNA\u001b[39m, \u001b[31mNA\u001b[39m, \u001b[31mNA\u001b[39m, \u001b[31mNA\u001b[39m, \u001b[31mNA\u001b[39m, \u001b[31mNA\u001b[39m, \u001b[31mNA\u001b[39m, \u001b[31mNA\u001b[39m, \u001b[31mNA\u001b[39m, \u001b[31mN\u001b[39m…\n",
      "$ cong_dist_abbrv          \u001b[3m\u001b[38;5;246m<int>\u001b[39m\u001b[23m \u001b[31mNA\u001b[39m, \u001b[31mNA\u001b[39m, 9, 9, 9, 9, \u001b[31mNA\u001b[39m, 9, 9, 9, 9, 9, 9, 9, …\n",
      "$ super_court_abbrv        \u001b[3m\u001b[38;5;246m<fct>\u001b[39m\u001b[23m \u001b[31mNA\u001b[39m, \u001b[31mNA\u001b[39m, 17, 17, 17, 17, \u001b[31mNA\u001b[39m, 17, 17, 17, 17, 1…\n",
      "$ judic_dist_abbrv         \u001b[3m\u001b[38;5;246m<fct>\u001b[39m\u001b[23m \u001b[31mNA\u001b[39m, \u001b[31mNA\u001b[39m, 17, 17, 17, 17, \u001b[31mNA\u001b[39m, 17, 17, 17, 17, 1…\n",
      "$ nc_senate_abbrv          \u001b[3m\u001b[38;5;246m<int>\u001b[39m\u001b[23m \u001b[31mNA\u001b[39m, \u001b[31mNA\u001b[39m, 25, 25, 25, 25, \u001b[31mNA\u001b[39m, 25, 25, 25, 25, 2…\n",
      "$ nc_house_abbrv           \u001b[3m\u001b[38;5;246m<int>\u001b[39m\u001b[23m \u001b[31mNA\u001b[39m, \u001b[31mNA\u001b[39m, 64, 63, 63, 64, \u001b[31mNA\u001b[39m, 63, 63, 63, 63, 6…\n",
      "$ county_commiss_abbrv     \u001b[3m\u001b[38;5;246m<fct>\u001b[39m\u001b[23m \u001b[31mNA\u001b[39m, \u001b[31mNA\u001b[39m, \u001b[31mNA\u001b[39m, \u001b[31mNA\u001b[39m, \u001b[31mNA\u001b[39m, \u001b[31mNA\u001b[39m, \u001b[31mNA\u001b[39m, \u001b[31mNA\u001b[39m, \u001b[31mNA\u001b[39m, \u001b[31mNA\u001b[39m, \u001b[31mNA\u001b[39m, \u001b[31mN\u001b[39m…\n",
      "$ county_commiss_desc      \u001b[3m\u001b[38;5;246m<fct>\u001b[39m\u001b[23m \u001b[31mNA\u001b[39m, \u001b[31mNA\u001b[39m, \u001b[31mNA\u001b[39m, \u001b[31mNA\u001b[39m, \u001b[31mNA\u001b[39m, \u001b[31mNA\u001b[39m, \u001b[31mNA\u001b[39m, \u001b[31mNA\u001b[39m, \u001b[31mNA\u001b[39m, \u001b[31mNA\u001b[39m, \u001b[31mNA\u001b[39m, \u001b[31mN\u001b[39m…\n",
      "$ township_abbrv           \u001b[3m\u001b[38;5;246m<fct>\u001b[39m\u001b[23m \u001b[31mNA\u001b[39m, \u001b[31mNA\u001b[39m, \u001b[31mNA\u001b[39m, \u001b[31mNA\u001b[39m, \u001b[31mNA\u001b[39m, \u001b[31mNA\u001b[39m, \u001b[31mNA\u001b[39m, \u001b[31mNA\u001b[39m, \u001b[31mNA\u001b[39m, \u001b[31mNA\u001b[39m, \u001b[31mNA\u001b[39m, \u001b[31mN\u001b[39m…\n",
      "$ township_desc            \u001b[3m\u001b[38;5;246m<fct>\u001b[39m\u001b[23m \u001b[31mNA\u001b[39m, \u001b[31mNA\u001b[39m, \u001b[31mNA\u001b[39m, \u001b[31mNA\u001b[39m, \u001b[31mNA\u001b[39m, \u001b[31mNA\u001b[39m, \u001b[31mNA\u001b[39m, \u001b[31mNA\u001b[39m, \u001b[31mNA\u001b[39m, \u001b[31mNA\u001b[39m, \u001b[31mNA\u001b[39m, \u001b[31mN\u001b[39m…\n",
      "$ school_dist_abbrv        \u001b[3m\u001b[38;5;246m<fct>\u001b[39m\u001b[23m \u001b[31mNA\u001b[39m, \u001b[31mNA\u001b[39m, \u001b[31mNA\u001b[39m, \u001b[31mNA\u001b[39m, \u001b[31mNA\u001b[39m, \u001b[31mNA\u001b[39m, \u001b[31mNA\u001b[39m, \u001b[31mNA\u001b[39m, \u001b[31mNA\u001b[39m, \u001b[31mNA\u001b[39m, \u001b[31mNA\u001b[39m, \u001b[31mN\u001b[39m…\n",
      "$ school_dist_desc         \u001b[3m\u001b[38;5;246m<fct>\u001b[39m\u001b[23m \u001b[31mNA\u001b[39m, \u001b[31mNA\u001b[39m, \u001b[31mNA\u001b[39m, \u001b[31mNA\u001b[39m, \u001b[31mNA\u001b[39m, \u001b[31mNA\u001b[39m, \u001b[31mNA\u001b[39m, \u001b[31mNA\u001b[39m, \u001b[31mNA\u001b[39m, \u001b[31mNA\u001b[39m, \u001b[31mNA\u001b[39m, \u001b[31mN\u001b[39m…\n",
      "$ fire_dist_abbrv          \u001b[3m\u001b[38;5;246m<fct>\u001b[39m\u001b[23m \u001b[31mNA\u001b[39m, \u001b[31mNA\u001b[39m, \u001b[31mNA\u001b[39m, \u001b[31mNA\u001b[39m, \u001b[31mNA\u001b[39m, \u001b[31mNA\u001b[39m, \u001b[31mNA\u001b[39m, \u001b[31mNA\u001b[39m, \u001b[31mNA\u001b[39m, \u001b[31mNA\u001b[39m, \u001b[31mNA\u001b[39m, \u001b[31mN\u001b[39m…\n",
      "$ fire_dist_desc           \u001b[3m\u001b[38;5;246m<fct>\u001b[39m\u001b[23m \u001b[31mNA\u001b[39m, \u001b[31mNA\u001b[39m, \u001b[31mNA\u001b[39m, \u001b[31mNA\u001b[39m, \u001b[31mNA\u001b[39m, \u001b[31mNA\u001b[39m, \u001b[31mNA\u001b[39m, \u001b[31mNA\u001b[39m, \u001b[31mNA\u001b[39m, \u001b[31mNA\u001b[39m, \u001b[31mNA\u001b[39m, \u001b[31mN\u001b[39m…\n",
      "$ water_dist_abbrv         \u001b[3m\u001b[38;5;246m<fct>\u001b[39m\u001b[23m \u001b[31mNA\u001b[39m, \u001b[31mNA\u001b[39m, \u001b[31mNA\u001b[39m, \u001b[31mNA\u001b[39m, \u001b[31mNA\u001b[39m, \u001b[31mNA\u001b[39m, \u001b[31mNA\u001b[39m, \u001b[31mNA\u001b[39m, \u001b[31mNA\u001b[39m, \u001b[31mNA\u001b[39m, \u001b[31mNA\u001b[39m, \u001b[31mN\u001b[39m…\n",
      "$ water_dist_desc          \u001b[3m\u001b[38;5;246m<fct>\u001b[39m\u001b[23m \u001b[31mNA\u001b[39m, \u001b[31mNA\u001b[39m, \u001b[31mNA\u001b[39m, \u001b[31mNA\u001b[39m, \u001b[31mNA\u001b[39m, \u001b[31mNA\u001b[39m, \u001b[31mNA\u001b[39m, \u001b[31mNA\u001b[39m, \u001b[31mNA\u001b[39m, \u001b[31mNA\u001b[39m, \u001b[31mNA\u001b[39m, \u001b[31mN\u001b[39m…\n",
      "$ sewer_dist_abbrv         \u001b[3m\u001b[38;5;246m<fct>\u001b[39m\u001b[23m \u001b[31mNA\u001b[39m, \u001b[31mNA\u001b[39m, \u001b[31mNA\u001b[39m, \u001b[31mNA\u001b[39m, \u001b[31mNA\u001b[39m, \u001b[31mNA\u001b[39m, \u001b[31mNA\u001b[39m, \u001b[31mNA\u001b[39m, \u001b[31mNA\u001b[39m, \u001b[31mNA\u001b[39m, \u001b[31mNA\u001b[39m, \u001b[31mN\u001b[39m…\n",
      "$ sewer_dist_desc          \u001b[3m\u001b[38;5;246m<fct>\u001b[39m\u001b[23m \u001b[31mNA\u001b[39m, \u001b[31mNA\u001b[39m, \u001b[31mNA\u001b[39m, \u001b[31mNA\u001b[39m, \u001b[31mNA\u001b[39m, \u001b[31mNA\u001b[39m, \u001b[31mNA\u001b[39m, \u001b[31mNA\u001b[39m, \u001b[31mNA\u001b[39m, \u001b[31mNA\u001b[39m, \u001b[31mNA\u001b[39m, \u001b[31mN\u001b[39m…\n",
      "$ sanit_dist_abbrv         \u001b[3m\u001b[38;5;246m<fct>\u001b[39m\u001b[23m \u001b[31mNA\u001b[39m, \u001b[31mNA\u001b[39m, \u001b[31mNA\u001b[39m, \u001b[31mNA\u001b[39m, \u001b[31mNA\u001b[39m, \u001b[31mNA\u001b[39m, \u001b[31mNA\u001b[39m, \u001b[31mNA\u001b[39m, \u001b[31mNA\u001b[39m, \u001b[31mNA\u001b[39m, \u001b[31mNA\u001b[39m, \u001b[31mN\u001b[39m…\n",
      "$ sanit_dist_desc          \u001b[3m\u001b[38;5;246m<fct>\u001b[39m\u001b[23m \u001b[31mNA\u001b[39m, \u001b[31mNA\u001b[39m, \u001b[31mNA\u001b[39m, \u001b[31mNA\u001b[39m, \u001b[31mNA\u001b[39m, \u001b[31mNA\u001b[39m, \u001b[31mNA\u001b[39m, \u001b[31mNA\u001b[39m, \u001b[31mNA\u001b[39m, \u001b[31mNA\u001b[39m, \u001b[31mNA\u001b[39m, \u001b[31mN\u001b[39m…\n",
      "$ rescue_dist_abbrv        \u001b[3m\u001b[38;5;246m<fct>\u001b[39m\u001b[23m \u001b[31mNA\u001b[39m, \u001b[31mNA\u001b[39m, \u001b[31mNA\u001b[39m, \u001b[31mNA\u001b[39m, \u001b[31mNA\u001b[39m, \u001b[31mNA\u001b[39m, \u001b[31mNA\u001b[39m, \u001b[31mNA\u001b[39m, \u001b[31mNA\u001b[39m, \u001b[31mNA\u001b[39m, \u001b[31mNA\u001b[39m, \u001b[31mN\u001b[39m…\n",
      "$ rescue_dist_desc         \u001b[3m\u001b[38;5;246m<fct>\u001b[39m\u001b[23m \u001b[31mNA\u001b[39m, \u001b[31mNA\u001b[39m, \u001b[31mNA\u001b[39m, \u001b[31mNA\u001b[39m, \u001b[31mNA\u001b[39m, \u001b[31mNA\u001b[39m, \u001b[31mNA\u001b[39m, \u001b[31mNA\u001b[39m, \u001b[31mNA\u001b[39m, \u001b[31mNA\u001b[39m, \u001b[31mNA\u001b[39m, \u001b[31mN\u001b[39m…\n",
      "$ munic_dist_abbrv         \u001b[3m\u001b[38;5;246m<fct>\u001b[39m\u001b[23m \u001b[31mNA\u001b[39m, \u001b[31mNA\u001b[39m, \u001b[31mNA\u001b[39m, BUR, BUR, \u001b[31mNA\u001b[39m, \u001b[31mNA\u001b[39m, BUR, BUR, BUR, …\n",
      "$ munic_dist_desc          \u001b[3m\u001b[38;5;246m<fct>\u001b[39m\u001b[23m \u001b[31mNA\u001b[39m, \u001b[31mNA\u001b[39m, \u001b[31mNA\u001b[39m, BURLINGTON, BURLINGTON, \u001b[31mNA\u001b[39m, \u001b[31mNA\u001b[39m, B…\n",
      "$ dist_1_abbrv             \u001b[3m\u001b[38;5;246m<int>\u001b[39m\u001b[23m \u001b[31mNA\u001b[39m, \u001b[31mNA\u001b[39m, 17, 17, 17, 17, \u001b[31mNA\u001b[39m, 17, 17, 17, 17, 1…\n",
      "$ dist_1_desc              \u001b[3m\u001b[38;5;246m<fct>\u001b[39m\u001b[23m \u001b[31mNA\u001b[39m, \u001b[31mNA\u001b[39m, PROSECUTORIAL DISTRICT 17, PROSECUTOR…\n",
      "$ vtd_abbrv                \u001b[3m\u001b[38;5;246m<fct>\u001b[39m\u001b[23m \u001b[31mNA\u001b[39m, \u001b[31mNA\u001b[39m, 103, 03S, 124, 08N, \u001b[31mNA\u001b[39m, 03S, 124, 124…\n",
      "$ vtd_desc                 \u001b[3m\u001b[38;5;246m<fct>\u001b[39m\u001b[23m \u001b[31mNA\u001b[39m, \u001b[31mNA\u001b[39m, 103, 03S, 124, 08N, \u001b[31mNA\u001b[39m, 03S, 124, 124…\n"
     ]
    }
   ],
   "source": [
    "ncvote <- arrow::read_ipc_file(\"ncvoter_Statewide.arrow\")  # as a tibble\n",
    "tibble::glimpse(ncvote)"
   ]
  },
  {
   "cell_type": "markdown",
   "id": "c08eb0a4",
   "metadata": {},
   "source": [
    "Counting the voter status categories can be done with the `dplyr` package."
   ]
  },
  {
   "cell_type": "code",
   "execution_count": 2,
   "id": "b97b83cb",
   "metadata": {},
   "outputs": [
    {
     "data": {
      "text/plain": [
       "\u001b[38;5;246m# A tibble: 5 × 3\u001b[39m\n",
       "  status_cd voter_status_desc       n\n",
       "  \u001b[3m\u001b[38;5;246m<fct>\u001b[39m\u001b[23m     \u001b[3m\u001b[38;5;246m<fct>\u001b[39m\u001b[23m               \u001b[3m\u001b[38;5;246m<int>\u001b[39m\u001b[23m\n",
       "\u001b[38;5;250m1\u001b[39m A         ACTIVE            7\u001b[4m0\u001b[24m\u001b[4m8\u001b[24m\u001b[4m9\u001b[24m338\n",
       "\u001b[38;5;250m2\u001b[39m R         REMOVED           1\u001b[4m1\u001b[24m\u001b[4m0\u001b[24m\u001b[4m0\u001b[24m070\n",
       "\u001b[38;5;250m3\u001b[39m I         INACTIVE           \u001b[4m4\u001b[24m\u001b[4m0\u001b[24m\u001b[4m1\u001b[24m159\n",
       "\u001b[38;5;250m4\u001b[39m D         DENIED             \u001b[4m1\u001b[24m\u001b[4m7\u001b[24m\u001b[4m3\u001b[24m591\n",
       "\u001b[38;5;250m5\u001b[39m S         TEMPORARY           \u001b[4m1\u001b[24m\u001b[4m4\u001b[24m427"
      ]
     },
     "execution_count": null,
     "metadata": {},
     "output_type": "execute_result"
    }
   ],
   "source": [
    "dplyr::count(ncvote, status_cd, voter_status_desc, sort=TRUE)"
   ]
  },
  {
   "cell_type": "markdown",
   "id": "0a2dd884",
   "metadata": {},
   "source": [
    "Reading a large Arrow IPC file as a `data.frame` or `tibble` is slow because the data must be copied from the Arrow representation to R's representation.  R only allows for one type of integer (32-bit signed), one type of floating point representation (64-bit), and requires that the levels of factors must be strings.\n",
    "\n",
    "Also, R's representation of missing values, via sentinels, is different from the Arrow representation (optional bitvector) so you can't memory-map and just pass pointers.\n",
    "\n",
    "You can avoid the translation/copying and work with a pyarrow-like representation."
   ]
  },
  {
   "cell_type": "code",
   "execution_count": 3,
   "id": "b8fd4c8d",
   "metadata": {},
   "outputs": [
    {
     "data": {
      "text/plain": [
       "Table\n",
       "8778585 rows x 67 columns\n",
       "$county_id <int8 not null>\n",
       "$county_desc <dictionary<values=string, indices=int8> not null>\n",
       "$voter_reg_num <int32 not null>\n",
       "$ncid <string not null>\n",
       "$last_name <dictionary<values=string, indices=int32> not null>\n",
       "$first_name <dictionary<values=string, indices=int32>>\n",
       "$middle_name <dictionary<values=string, indices=int32>>\n",
       "$name_suffix_lbl <dictionary<values=string, indices=int8>>\n",
       "$status_cd <dictionary<values=string, indices=int8> not null>\n",
       "$voter_status_desc <dictionary<values=string, indices=int8> not null>\n",
       "$reason_cd <dictionary<values=string, indices=int8>>\n",
       "$voter_status_reason_desc <dictionary<values=string, indices=int8>>\n",
       "$res_street_address <string not null>\n",
       "$res_city_desc <dictionary<values=string, indices=int16>>\n",
       "$state_cd <dictionary<values=string, indices=int8>>\n",
       "$zip_code <int32>\n",
       "$mail_addr1 <string>\n",
       "$mail_addr2 <dictionary<values=string, indices=int32>>\n",
       "$mail_addr3 <dictionary<values=string, indices=int16>>\n",
       "$mail_addr4 <dictionary<values=string, indices=int16>>\n",
       "...\n",
       "47 more columns\n",
       "Use `schema()` to see entire schema"
      ]
     },
     "execution_count": null,
     "metadata": {},
     "output_type": "execute_result"
    }
   ],
   "source": [
    "tbl = arrow::read_ipc_file(\"ncvoter_Statewide.arrow\", as_data_frame = FALSE)\n",
    "tbl"
   ]
  },
  {
   "cell_type": "code",
   "execution_count": 4,
   "id": "3af35a0d",
   "metadata": {},
   "outputs": [
    {
     "data": {
      "text/plain": [
       "[1] \"Table\"        \"ArrowTabular\" \"ArrowObject\"  \"R6\"          "
      ]
     },
     "execution_count": null,
     "metadata": {},
     "output_type": "execute_result"
    }
   ],
   "source": [
    "class(tbl)"
   ]
  },
  {
   "cell_type": "markdown",
   "id": "a4c85c08",
   "metadata": {},
   "source": [
    "Many of the dplyr functions have methods for this type of table.  Usually you would apply `as.data.frame` to the result before printing."
   ]
  },
  {
   "cell_type": "code",
   "execution_count": 5,
   "id": "a99d4b42",
   "metadata": {},
   "outputs": [
    {
     "data": {
      "text/plain": [
       "  status_cd voter_status_desc       n\n",
       "1         A            ACTIVE 7089338\n",
       "2         R           REMOVED 1100070\n",
       "3         I          INACTIVE  401159\n",
       "4         D            DENIED  173591\n",
       "5         S         TEMPORARY   14427"
      ]
     },
     "execution_count": null,
     "metadata": {},
     "output_type": "execute_result"
    }
   ],
   "source": [
    "as.data.frame(dplyr::count(tbl, status_cd, voter_status_desc, sort=TRUE))"
   ]
  }
 ],
 "metadata": {
  "kernelspec": {
   "display_name": "R",
   "language": "R",
   "name": "ir"
  },
  "language_info": {
   "name": "r"
  }
 },
 "nbformat": 4,
 "nbformat_minor": 5
}
